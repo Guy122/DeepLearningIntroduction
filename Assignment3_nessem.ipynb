{
  "nbformat": 4,
  "nbformat_minor": 0,
  "metadata": {
    "colab": {
      "name": "Assignment3-nessem.ipynb",
      "provenance": [],
      "collapsed_sections": [],
      "toc_visible": true,
      "include_colab_link": true
    },
    "language_info": {
      "name": "python"
    },
    "kernelspec": {
      "name": "python3",
      "display_name": "Python 3"
    }
  },
  "cells": [
    {
      "cell_type": "markdown",
      "metadata": {
        "id": "view-in-github",
        "colab_type": "text"
      },
      "source": [
        "<a href=\"https://colab.research.google.com/github/DeepLearningAssignments/DeepLearningIntroduction-Shlezinger/blob/main/Assignment3_nessem.ipynb\" target=\"_parent\"><img src=\"https://colab.research.google.com/assets/colab-badge.svg\" alt=\"Open In Colab\"/></a>"
      ]
    },
    {
      "cell_type": "markdown",
      "metadata": {
        "id": "DW08yg5o15Hb"
      },
      "source": [
        "# Assignment 3: Image Classification\n",
        "\n",
        "**Deadline**: Sunday, May 2nd, by 9pm.\n",
        "\n",
        "**Submission**: Submit a PDF export of the completed notebook as well as the ipynb file. \n",
        "\n",
        "In this assignment, we will build a convolutional neural network that can predict \n",
        "whether two shoes are from the **same pair** or from two **different pairs**.\n",
        "This kind of application can have real-world applications: for example to help\n",
        "people who are visually impaired to have more independence.\n",
        "\n",
        "We will explore two convolutional architectures. While we will give you starter\n",
        "code to help make data processing a bit easier, in this assignment you have a chance to build your neural network all by yourself. \n",
        "\n",
        "You may modify the starter code as you see fit, including changing the signatures of\n",
        "functions and adding/removing helper functions. However, please make sure that we can understand what you are doing and why.\n",
        " "
      ]
    },
    {
      "cell_type": "code",
      "metadata": {
        "id": "K398wUZ915Hh"
      },
      "source": [
        "import pandas\n",
        "import numpy as np\n",
        "import matplotlib.pyplot as plt\n",
        "\n",
        "import torch\n",
        "import torch.nn as nn\n",
        "import torch.nn.functional as F\n",
        "import torch.optim as optim\n",
        "device = torch.device(\"cuda:0\" if torch.cuda.is_available() else \"cpu\")\n"
      ],
      "execution_count": null,
      "outputs": []
    },
    {
      "cell_type": "markdown",
      "metadata": {
        "id": "uokBv--J15Hi"
      },
      "source": [
        "## Question 1. Data (20%)\n",
        "\n",
        "Download the data from the course website. \n",
        "\n",
        "Unzip the file. There are three\n",
        "main folders: `train`, `test_w` and `test_m`. Data in `train` will be used for\n",
        "training and validation, and the data in the other folders will be used for testing.\n",
        "This is so that the entire class will have the same test sets. The dataset is comprised of triplets of pairs, where each such triplet of image pairs was taken in a similar setting (by the same person).\n",
        "\n",
        "We've separated `test_w` and `test_m` so that we can track our model performance \n",
        "for women's shoes and men's shoes separately. Each of the test sets contain images of either exclusively men's shoes or women's\n",
        "shoes.\n",
        "\n",
        "Upload this data to Google Colab.\n",
        "Then, mount Google Drive from your Google Colab notebook:"
      ]
    },
    {
      "cell_type": "code",
      "metadata": {
        "id": "glY0k-zi15Hi",
        "colab": {
          "base_uri": "https://localhost:8080/"
        },
        "outputId": "46b3c09b-0efa-4038-8cc4-9998ce86eaec"
      },
      "source": [
        "from google.colab import drive\n",
        "drive.mount('/content/gdrive')\n"
      ],
      "execution_count": 61,
      "outputs": [
        {
          "output_type": "stream",
          "text": [
            "Drive already mounted at /content/gdrive; to attempt to forcibly remount, call drive.mount(\"/content/gdrive\", force_remount=True).\n"
          ],
          "name": "stdout"
        }
      ]
    },
    {
      "cell_type": "code",
      "metadata": {
        "id": "P5gkMW5MVPwB"
      },
      "source": [
        "path = \"/content/drive/MyDrive/data/train/*.jpg\" # TODO - UPDATE ME!\n",
        "train_images = {}\n",
        "for file in glob.glob(path):\n",
        "  file_name = file.split(\"/\")[-1]   # get the name of the .jpg file\n",
        "  img = plt.imread(file)           # read the image as a numpy array\n",
        "  train_images[file_name] = img[:, :, :3] # remove the alpha channel"
      ],
      "execution_count": null,
      "outputs": []
    },
    {
      "cell_type": "code",
      "metadata": {
        "colab": {
          "base_uri": "https://localhost:8080/",
          "height": 247
        },
        "id": "JQr30Sf-XS4j",
        "outputId": "e4fa4f11-756e-4383-bcdf-5d6d4bfc890b"
      },
      "source": [
        "file_path = '/content/drive/MyDrive/data/train'\n",
        "import os\n",
        "entries = os.listdir(file_path)\n",
        "print(entries)\n",
        "train_data = {}\n",
        "for index in entries:\n",
        "  print(index)"
      ],
      "execution_count": null,
      "outputs": [
        {
          "output_type": "error",
          "ename": "FileNotFoundError",
          "evalue": "ignored",
          "traceback": [
            "\u001b[0;31m---------------------------------------------------------------------------\u001b[0m",
            "\u001b[0;31mFileNotFoundError\u001b[0m                         Traceback (most recent call last)",
            "\u001b[0;32m<ipython-input-58-21b019d51e51>\u001b[0m in \u001b[0;36m<module>\u001b[0;34m()\u001b[0m\n\u001b[1;32m      1\u001b[0m \u001b[0mfile_path\u001b[0m \u001b[0;34m=\u001b[0m \u001b[0;34m'/content/drive/MyDrive/data/train'\u001b[0m\u001b[0;34m\u001b[0m\u001b[0;34m\u001b[0m\u001b[0m\n\u001b[1;32m      2\u001b[0m \u001b[0;32mimport\u001b[0m \u001b[0mos\u001b[0m\u001b[0;34m\u001b[0m\u001b[0;34m\u001b[0m\u001b[0m\n\u001b[0;32m----> 3\u001b[0;31m \u001b[0mentries\u001b[0m \u001b[0;34m=\u001b[0m \u001b[0mos\u001b[0m\u001b[0;34m.\u001b[0m\u001b[0mlistdir\u001b[0m\u001b[0;34m(\u001b[0m\u001b[0mfile_path\u001b[0m\u001b[0;34m)\u001b[0m\u001b[0;34m\u001b[0m\u001b[0;34m\u001b[0m\u001b[0m\n\u001b[0m\u001b[1;32m      4\u001b[0m \u001b[0mprint\u001b[0m\u001b[0;34m(\u001b[0m\u001b[0mentries\u001b[0m\u001b[0;34m)\u001b[0m\u001b[0;34m\u001b[0m\u001b[0;34m\u001b[0m\u001b[0m\n\u001b[1;32m      5\u001b[0m \u001b[0mtrain_data\u001b[0m \u001b[0;34m=\u001b[0m \u001b[0;34m{\u001b[0m\u001b[0;34m}\u001b[0m\u001b[0;34m\u001b[0m\u001b[0;34m\u001b[0m\u001b[0m\n",
            "\u001b[0;31mFileNotFoundError\u001b[0m: [Errno 2] No such file or directory: '/content/drive/MyDrive/data/train'"
          ]
        }
      ]
    },
    {
      "cell_type": "code",
      "metadata": {
        "colab": {
          "base_uri": "https://localhost:8080/"
        },
        "id": "TDH0ixBmVoHE",
        "outputId": "6da28615-bd94-4b4b-9d92-bb5a90cd7f35"
      },
      "source": [
        "glob.glob(path)"
      ],
      "execution_count": null,
      "outputs": [
        {
          "output_type": "execute_result",
          "data": {
            "text/plain": [
              "[]"
            ]
          },
          "metadata": {
            "tags": []
          },
          "execution_count": 39
        }
      ]
    },
    {
      "cell_type": "markdown",
      "metadata": {
        "id": "4pER95x515Hj"
      },
      "source": [
        "After you have done so, read this entire section \n",
        "before proceeding. There are right and wrong ways of\n",
        "processing this data. If you don't make the correct choices, you may find\n",
        "yourself needing to start over.\n",
        "Many machine learning projects fail because of the lack of care taken during\n",
        "the data processing stage.\n"
      ]
    },
    {
      "cell_type": "markdown",
      "metadata": {
        "id": "csjhaMPk15Hj"
      },
      "source": [
        "### Part (a) -- 8%\n",
        "\n",
        "Load the training and test data, and separate your training data into training and validation.\n",
        "Create the numpy arrays `train_data`, `valid_data`, `test_w` and `test_m`, all of which should\n",
        "be of shape `[*, 3, 2, 224, 224, 3]`. The dimensions of these numpy arrays are as follows:\n",
        "\n",
        "- `*` - the number of triplets allocated to train, valid, or test\n",
        "- `3` - the 3 pairs of shoe images in that triplet\n",
        "- `2` - the left/right shoes\n",
        "- `224` - the height of each image\n",
        "- `224` - the width of each image\n",
        "- `3` - the colour channels\n",
        "\n",
        "So, the item `train_data[4,0,0,:,:,:]` should give us the left shoe of the first image of the fifth person.The item `train_data[4,0,1,:,:,:]`  should be the right shoe in the same pair. \n",
        "The item `train_data[4,1,1,:,:,:]`  should be the right shoe in a different pair of that same person.\n",
        "\n",
        "When you first load the images using (for example) `plt.imread`, you may see a numpy array of shape\n",
        "`[224, 224, 4]` instead of `[224, 224, 3]`. That last channel is what's called the alpha channel for transparent\n",
        "pixels, and should be removed. \n",
        "The pixel intensities are stored as an integer between 0 and 255.\n",
        "Make sure you normlize your images, namely, divide the intensities by 255 so that you have floating-point values between 0 and 1. Then, subtract 0.5\n",
        "so that the elements of `train_data`, `valid_data` and `test_data` are between -0.5 and 0.5.\n",
        "**Note that this step actually makes a huge difference in training!**\n",
        "\n",
        "This function might take a while to run; it can takes several minutes to just\n",
        "load the files from Google Drive.  If you want to avoid\n",
        "running this code multiple times, you can save \n",
        "your numpy arrays and load it later:\n",
        "https://docs.scipy.org/doc/numpy/reference/generated/numpy.save.html"
      ]
    },
    {
      "cell_type": "code",
      "metadata": {
        "id": "_lcd7Eoc15Hk",
        "colab": {
          "base_uri": "https://localhost:8080/"
        },
        "outputId": "d4dfd161-484b-4a06-ff7e-3907e520c63e"
      },
      "source": [
        "# Your code goes here. Make sure it does not get cut off\n",
        "# You can use the code below to help you get started. You're welcome to modify\n",
        "# the code or remove it entirely: it's just here so that you don't get stuck\n",
        "# reading files\n",
        "\n",
        "import glob\n",
        "import operator\n",
        "from collections import OrderedDict\n",
        "\n",
        "# Get train images\n",
        "path = \"/content/drive/MyDrive/data/train/*.jpg\" # TODO - UPDATE ME!\n",
        "train_images = {}\n",
        "for file in glob.glob(path):\n",
        "  file_name = file.split(\"/\")[-1]   # get the name of the .jpg file\n",
        "  img = plt.imread(file)           # read the image as a numpy array\n",
        "  train_images[file_name] = img[:, :, :3] # remove the alpha channel\n",
        "\n",
        "# Get test_w images\n",
        "path = \"/content/drive/MyDrive/data/test_w/*.jpg\" # TODO - UPDATE ME!\n",
        "test_w_images = {}\n",
        "for file in glob.glob(path):\n",
        "  file_name = file.split(\"/\")[-1]   # get the name of the .jpg file\n",
        "  img = plt.imread(file)           # read the image as a numpy array\n",
        "  test_w_images[file_name] = img[:, :, :3] # remove the alpha channel\n",
        "\n",
        "# Get test_m images\n",
        "path = \"/content/drive/MyDrive/data/test_m/*.jpg\" # TODO - UPDATE ME!\n",
        "test_m_images = {}\n",
        "for file in glob.glob(path):\n",
        "  file_name = file.split(\"/\")[-1]   # get the name of the .jpg file\n",
        "  img = plt.imread(file)           # read the image as a numpy array\n",
        "  test_m_images[file_name] = img[:, :, :3] # remove the alpha channel\n",
        "\n",
        "# Creates a sorted images (sorted in lexicogrphical order) \n",
        "train_images = OrderedDict(sorted(train_images.items()))\n",
        "test_w_images = OrderedDict(sorted(test_w_images.items()))\n",
        "test_m_images = OrderedDict(sorted(test_m_images.items()))\n",
        "\n",
        "# Calculate the number of triplets allocated to train\n",
        "train_img_count = int(len(train_images) / 6)\n",
        "test_w_img_count = int(len(test_w_images) / 6)\n",
        "test_m_img_count = int(len(test_m_images) / 6)\n",
        "\n",
        "# ======================= #\n",
        "# Train & validation data #\n",
        "# ======================= #\n",
        "indx = 0\n",
        "mens = 0\n",
        "womens = 0\n",
        "train = np.full((train_img_count, 3, 2, 224, 224, 3),0)\n",
        "train_norm = np.full((train_img_count, 3, 2, 224, 224, 3),0.)\n",
        "\n",
        "for file_name in train_images:\n",
        "  # Count mens & womens shoes (for investigation use)\n",
        "  if (file_name[-5:-4] == 'm'):\n",
        "    mens +=1\n",
        "  else:\n",
        "    womens +=1\n",
        "\n",
        "  # Get data from image name\n",
        "  index = int(file_name[1:4])\n",
        "  pair_number = int(file_name[5]) - 1\n",
        "  if (file_name[7:11] == 'left'):\n",
        "    left_right = 0\n",
        "  else:\n",
        "    left_right = 1\n",
        "\n",
        "  # Add triplets to train & valid\n",
        "  img = train_images[file_name]\n",
        "  train[int(indx/6), pair_number, left_right, :, :, :] = img\n",
        "  img_norm = (img / 255) - 0.5\n",
        "  train_norm[int(indx/6), pair_number, left_right, :, :, :] = img_norm\n",
        "\n",
        "  indx += 1\n",
        "\n",
        "# We'll use 102 triplets for trai, and 10 triplets for validation\n",
        "train_data = train[:102, :, :, :, :, :]\n",
        "valid_data = train[102:, :, :, :, :, :]\n",
        "\n",
        "# Train & validation data with normalization\n",
        "train_data_norm = train_norm[:102, :, :, :, :, :]\n",
        "valid_data_norm = train_norm[102:, :, :, :, :, :]\n",
        "\n",
        "# =========== #\n",
        "# Test_w data #\n",
        "# =========== #\n",
        "indx = 0\n",
        "test_w = np.full((test_w_img_count, 3, 2, 224, 224, 3),0)\n",
        "test_w_norm = np.full((test_w_img_count, 3, 2, 224, 224, 3),0.)\n",
        "\n",
        "for file_name in test_w_images:\n",
        "  # Get data from image name\n",
        "  index = int(file_name[1:4])\n",
        "  pair_number = int(file_name[5]) - 1\n",
        "  if (file_name[7:11] == 'left'):\n",
        "    left_right = 0\n",
        "  else:\n",
        "    left_right = 1\n",
        "\n",
        "  # Add triplets to test_w\n",
        "  img = test_w_images[file_name]\n",
        "  test_w[int(indx/6), pair_number, left_right, :, :, :] = img\n",
        "  img_norm = (img / 255) - 0.5\n",
        "  test_w_norm[int(indx/6), pair_number, left_right, :, :, :] = img_norm\n",
        "\n",
        "  indx += 1\n",
        "\n",
        "# =========== #\n",
        "# Test_m data #\n",
        "# =========== #\n",
        "indx = 0\n",
        "test_m = np.full((test_m_img_count, 3, 2, 224, 224, 3),0)\n",
        "test_m_norm = np.full((test_m_img_count, 3, 2, 224, 224, 3),0.)\n",
        "\n",
        "for file_name in test_m_images:\n",
        "  # Get data from image name\n",
        "  index = int(file_name[1:4])\n",
        "  pair_number = int(file_name[5]) - 1\n",
        "  if (file_name[7:11] == 'left'):\n",
        "    left_right = 0\n",
        "  else:\n",
        "    left_right = 1\n",
        "\n",
        "  # Add triplets to test_m\n",
        "  img = test_m_images[file_name]\n",
        "  test_m[int(indx/6), pair_number, left_right, :, :, :] = img\n",
        "  img_norm = (img / 255) - 0.5\n",
        "  test_m_norm[int(indx/6), pair_number, left_right, :, :, :] = img_norm\n",
        "\n",
        "  indx += 1\n",
        "\n",
        "\n",
        "# The normalized data are:\n",
        "# + train_data_norm\n",
        "# + valid_data_norm\n",
        "# + test_w_norm\n",
        "# + test_m_norm\n",
        "\n",
        "print(train_data_norm.shape)\n",
        "print(valid_data_norm.shape)\n",
        "print(test_w_norm.shape)\n",
        "print(test_m_norm.shape)"
      ],
      "execution_count": null,
      "outputs": [
        {
          "output_type": "stream",
          "text": [
            "(0, 3, 2, 224, 224, 3)\n",
            "(0, 3, 2, 224, 224, 3)\n",
            "(0, 3, 2, 224, 224, 3)\n",
            "(0, 3, 2, 224, 224, 3)\n"
          ],
          "name": "stdout"
        }
      ]
    },
    {
      "cell_type": "code",
      "metadata": {
        "colab": {
          "base_uri": "https://localhost:8080/"
        },
        "id": "bcRPwUXMG7nT",
        "outputId": "53ee293a-0dd8-4d46-926d-d64f2ba1566d"
      },
      "source": [
        "print(train_data.shape)"
      ],
      "execution_count": null,
      "outputs": [
        {
          "output_type": "stream",
          "text": [
            "(0, 3, 2, 224, 224, 3)\n"
          ],
          "name": "stdout"
        }
      ]
    },
    {
      "cell_type": "code",
      "metadata": {
        "id": "awOVWexl15Hk",
        "colab": {
          "base_uri": "https://localhost:8080/",
          "height": 266
        },
        "outputId": "9da69f1f-91dd-491c-f06a-69b562b53e5a"
      },
      "source": [
        "# Run this code, include the image in your PDF submission\n",
        "plt.figure()\n",
        "plt.imshow(train_data[4,0,0,:,:,:]) # left shoe of first pair submitted by 5th student\n",
        "plt.figure()\n",
        "plt.imshow(train_data[4,0,1,:,:,:]) # right shoe of first pair submitted by 5th student\n",
        "plt.figure()\n",
        "plt.imshow(train_data[4,1,1,:,:,:]) # right shoe of second pair submitted by 5th student"
      ],
      "execution_count": null,
      "outputs": [
        {
          "output_type": "error",
          "ename": "IndexError",
          "evalue": "ignored",
          "traceback": [
            "\u001b[0;31m---------------------------------------------------------------------------\u001b[0m",
            "\u001b[0;31mIndexError\u001b[0m                                Traceback (most recent call last)",
            "\u001b[0;32m<ipython-input-24-b62b68481c80>\u001b[0m in \u001b[0;36m<module>\u001b[0;34m()\u001b[0m\n\u001b[1;32m      1\u001b[0m \u001b[0;31m# Run this code, include the image in your PDF submission\u001b[0m\u001b[0;34m\u001b[0m\u001b[0;34m\u001b[0m\u001b[0;34m\u001b[0m\u001b[0m\n\u001b[1;32m      2\u001b[0m \u001b[0mplt\u001b[0m\u001b[0;34m.\u001b[0m\u001b[0mfigure\u001b[0m\u001b[0;34m(\u001b[0m\u001b[0;34m)\u001b[0m\u001b[0;34m\u001b[0m\u001b[0;34m\u001b[0m\u001b[0m\n\u001b[0;32m----> 3\u001b[0;31m \u001b[0mplt\u001b[0m\u001b[0;34m.\u001b[0m\u001b[0mimshow\u001b[0m\u001b[0;34m(\u001b[0m\u001b[0mtrain_data\u001b[0m\u001b[0;34m[\u001b[0m\u001b[0;36m4\u001b[0m\u001b[0;34m,\u001b[0m\u001b[0;36m0\u001b[0m\u001b[0;34m,\u001b[0m\u001b[0;36m0\u001b[0m\u001b[0;34m,\u001b[0m\u001b[0;34m:\u001b[0m\u001b[0;34m,\u001b[0m\u001b[0;34m:\u001b[0m\u001b[0;34m,\u001b[0m\u001b[0;34m:\u001b[0m\u001b[0;34m]\u001b[0m\u001b[0;34m)\u001b[0m \u001b[0;31m# left shoe of first pair submitted by 5th student\u001b[0m\u001b[0;34m\u001b[0m\u001b[0;34m\u001b[0m\u001b[0m\n\u001b[0m\u001b[1;32m      4\u001b[0m \u001b[0mplt\u001b[0m\u001b[0;34m.\u001b[0m\u001b[0mfigure\u001b[0m\u001b[0;34m(\u001b[0m\u001b[0;34m)\u001b[0m\u001b[0;34m\u001b[0m\u001b[0;34m\u001b[0m\u001b[0m\n\u001b[1;32m      5\u001b[0m \u001b[0mplt\u001b[0m\u001b[0;34m.\u001b[0m\u001b[0mimshow\u001b[0m\u001b[0;34m(\u001b[0m\u001b[0mtrain_data\u001b[0m\u001b[0;34m[\u001b[0m\u001b[0;36m4\u001b[0m\u001b[0;34m,\u001b[0m\u001b[0;36m0\u001b[0m\u001b[0;34m,\u001b[0m\u001b[0;36m1\u001b[0m\u001b[0;34m,\u001b[0m\u001b[0;34m:\u001b[0m\u001b[0;34m,\u001b[0m\u001b[0;34m:\u001b[0m\u001b[0;34m,\u001b[0m\u001b[0;34m:\u001b[0m\u001b[0;34m]\u001b[0m\u001b[0;34m)\u001b[0m \u001b[0;31m# right shoe of first pair submitted by 5th student\u001b[0m\u001b[0;34m\u001b[0m\u001b[0;34m\u001b[0m\u001b[0m\n",
            "\u001b[0;31mIndexError\u001b[0m: index 4 is out of bounds for axis 0 with size 0"
          ]
        },
        {
          "output_type": "display_data",
          "data": {
            "text/plain": [
              "<Figure size 432x288 with 0 Axes>"
            ]
          },
          "metadata": {
            "tags": []
          }
        }
      ]
    },
    {
      "cell_type": "markdown",
      "metadata": {
        "id": "q9bh9zDQ15Hk"
      },
      "source": [
        "### Part (b) -- 4%\n",
        "\n",
        "Since we want to train a model that determines whether two shoes come from the **same**\n",
        "pair or **different** pairs, we need to create some labelled training data.\n",
        "Our model will take in an image, either consisting of two shoes from the **same pair**\n",
        "or from **different pairs**. So, we'll need to generate some *positive examples* with\n",
        "images containing two shoes that *are* from the same pair, and some *negative examples* where \n",
        "images containing two shoes that *are not* from the same pair.\n",
        "We'll generate the *positive examples* in this part, and the *negative examples* in the next part.\n",
        "\n",
        "Write a function `generate_same_pair()` that takes one of the data sets that you produced\n",
        "in part (a), and generates a numpy array where each pair of shoes in the data set is\n",
        "concatenated together. In particular, we'll be concatenating together images of left\n",
        "and right shoes along the **height** axis. Your function `generate_same_pair` should\n",
        "return a  numpy array of shape `[*, 448, 224, 3]`.\n",
        "\n",
        "While at this stage we are working with numpy arrays, later on, we will need to convert this numpy array into a PyTorch tensor with shape\n",
        "`[*, 3, 448, 224]`. For now, we'll keep the RGB channel as the last dimension since\n",
        "that's what `plt.imshow` requires."
      ]
    },
    {
      "cell_type": "code",
      "metadata": {
        "id": "JtLFGHx915Hl",
        "colab": {
          "base_uri": "https://localhost:8080/",
          "height": 247
        },
        "outputId": "7809c111-6ddf-48c2-813d-bbfd3aa7744d"
      },
      "source": [
        "# Your code goes here\n",
        "def generate_same_pair(data):\n",
        "  N = data.shape[0]\n",
        "  d_sh_1 = data.shape[1]\n",
        "  d_sh_3 = data.shape[3]\n",
        "  d_sh_4 = data.shape[4]\n",
        "  d_sh_5 = data.shape[5]\n",
        "  result = np.full((N * 3, d_sh_3 * 2, d_sh_4, d_sh_5),0)\n",
        "  indx = 0\n",
        "\n",
        "  for triplet in range(N):\n",
        "    for pair in range(d_sh_1): # d_sh_1 = 3\n",
        "      result[indx, :224, :, :] = data[triplet, pair, 0, :, :, :]\n",
        "      result[indx, 224:, :, :] = data[triplet, pair, 1, :, :, :]\n",
        "      indx += 1 \n",
        "  \n",
        "  return result\n",
        "\n",
        "# Run this code, include the result with your PDF submission\n",
        "print(train_data.shape) # if this is [N, 3, 2, 224, 224, 3]\n",
        "print(generate_same_pair(train_data).shape) # should be [N*3, 448, 224, 3]\n",
        "plt.imshow(generate_same_pair(train_data)[1]) # should show 2 shoes from the same pair"
      ],
      "execution_count": null,
      "outputs": [
        {
          "output_type": "stream",
          "text": [
            "(0, 3, 2, 224, 224, 3)\n",
            "(0, 448, 224, 3)\n"
          ],
          "name": "stdout"
        },
        {
          "output_type": "error",
          "ename": "IndexError",
          "evalue": "ignored",
          "traceback": [
            "\u001b[0;31m---------------------------------------------------------------------------\u001b[0m",
            "\u001b[0;31mIndexError\u001b[0m                                Traceback (most recent call last)",
            "\u001b[0;32m<ipython-input-23-ee956258eaae>\u001b[0m in \u001b[0;36m<module>\u001b[0;34m()\u001b[0m\n\u001b[1;32m     20\u001b[0m \u001b[0mprint\u001b[0m\u001b[0;34m(\u001b[0m\u001b[0mtrain_data\u001b[0m\u001b[0;34m.\u001b[0m\u001b[0mshape\u001b[0m\u001b[0;34m)\u001b[0m \u001b[0;31m# if this is [N, 3, 2, 224, 224, 3]\u001b[0m\u001b[0;34m\u001b[0m\u001b[0;34m\u001b[0m\u001b[0m\n\u001b[1;32m     21\u001b[0m \u001b[0mprint\u001b[0m\u001b[0;34m(\u001b[0m\u001b[0mgenerate_same_pair\u001b[0m\u001b[0;34m(\u001b[0m\u001b[0mtrain_data\u001b[0m\u001b[0;34m)\u001b[0m\u001b[0;34m.\u001b[0m\u001b[0mshape\u001b[0m\u001b[0;34m)\u001b[0m \u001b[0;31m# should be [N*3, 448, 224, 3]\u001b[0m\u001b[0;34m\u001b[0m\u001b[0;34m\u001b[0m\u001b[0m\n\u001b[0;32m---> 22\u001b[0;31m \u001b[0mplt\u001b[0m\u001b[0;34m.\u001b[0m\u001b[0mimshow\u001b[0m\u001b[0;34m(\u001b[0m\u001b[0mgenerate_same_pair\u001b[0m\u001b[0;34m(\u001b[0m\u001b[0mtrain_data\u001b[0m\u001b[0;34m)\u001b[0m\u001b[0;34m[\u001b[0m\u001b[0;36m1\u001b[0m\u001b[0;34m]\u001b[0m\u001b[0;34m)\u001b[0m \u001b[0;31m# should show 2 shoes from the same pair\u001b[0m\u001b[0;34m\u001b[0m\u001b[0;34m\u001b[0m\u001b[0m\n\u001b[0m",
            "\u001b[0;31mIndexError\u001b[0m: index 1 is out of bounds for axis 0 with size 0"
          ]
        }
      ]
    },
    {
      "cell_type": "markdown",
      "metadata": {
        "id": "kziVX93H15Hm"
      },
      "source": [
        "### Part (c) -- 4%\n",
        "\n",
        "Write a function `generate_different_pair()` that takes one of the data sets that\n",
        "you produced in part (a), and generates a numpy array in the same shape as part (b).\n",
        "However, each image will contain 2 shoes from a **different** pair, but submitted\n",
        "by the **same student**. Do this by jumbling the 3 pairs of shoes submitted by \n",
        "each student.\n",
        "\n",
        "Theoretically, for each person (triplet of pairs), there are 6 different combinations\n",
        "of \"wrong pairs\" that we could produce. To keep our data set *balanced*, we will\n",
        "only produce **three** combinations of wrong pairs per unique person.\n",
        "In other words,`generate_same_pairs` and `generate_different_pairs` should\n",
        "return the same number of training examples."
      ]
    },
    {
      "cell_type": "code",
      "metadata": {
        "id": "ZMi1BWTp15Hm",
        "colab": {
          "base_uri": "https://localhost:8080/",
          "height": 324
        },
        "outputId": "0d70879b-27c1-41bb-82df-2604ad5d7aff"
      },
      "source": [
        "# Your code goes here\n",
        "def generate_different_pair(data):\n",
        "  N = data.shape[0]\n",
        "  d_sh_1 = data.shape[1]\n",
        "  d_sh_3 = data.shape[3]\n",
        "  d_sh_4 = data.shape[4]\n",
        "  d_sh_5 = data.shape[5]\n",
        "  result = np.full((N * 3, d_sh_3 * 2, d_sh_4, d_sh_5),0)\n",
        "  indx = 0\n",
        "\n",
        "  for triplet in range(N):\n",
        "    result[indx, :224, :, :] = data[triplet, 0, 0, :, :, :]\n",
        "    result[indx, 224:, :, :] = data[triplet, 2, 1, :, :, :]\n",
        "    result[indx + 1, :224, :, :] = data[triplet, 1, 0, :, :, :]\n",
        "    result[indx + 1, 224:, :, :] = data[triplet, 0, 1, :, :, :]   \n",
        "    result[indx + 2, :224, :, :] = data[triplet, 2, 0, :, :, :]\n",
        "    result[indx + 2, 224:, :, :] = data[triplet, 1, 1, :, :, :]\n",
        " \n",
        "  return result\n",
        "\n",
        "# Run this code, include the result with your PDF submission\n",
        "print(train_data.shape) # if this is [N, 3, 2, 224, 224, 3]\n",
        "print(generate_different_pair(train_data).shape) # should be [N*3, 448, 224, 3]\n",
        "plt.imshow(generate_different_pair(train_data)[0]) # should show 2 shoes from different pairs\n"
      ],
      "execution_count": null,
      "outputs": [
        {
          "output_type": "stream",
          "text": [
            "(102, 3, 2, 224, 224, 3)\n",
            "(306, 448, 224, 3)\n"
          ],
          "name": "stdout"
        },
        {
          "output_type": "execute_result",
          "data": {
            "text/plain": [
              "<matplotlib.image.AxesImage at 0x7f6ad7bb5a10>"
            ]
          },
          "metadata": {
            "tags": []
          },
          "execution_count": 7
        },
        {
          "output_type": "display_data",
          "data": {
            "image/png": "[encoded data removed]",
            "text/plain": [
              "<Figure size 432x288 with 1 Axes>"
            ]
          },
          "metadata": {
            "tags": [],
            "needs_background": "light"
          }
        }
      ]
    },
    {
      "cell_type": "markdown",
      "metadata": {
        "id": "Qd0PjHSW15Hm"
      },
      "source": [
        "### Part (d) -- 2%\n",
        "\n",
        "Why do we insist that the different pairs of shoes still come from the same\n",
        "person?  (Hint: what else do images from the same person have in common?)"
      ]
    },
    {
      "cell_type": "markdown",
      "metadata": {
        "id": "woPYTRRD1zCN"
      },
      "source": [
        "**Write your explanation here:**\n",
        "\n",
        "We insist that the different pairs of shoes still come from the same person because we want that our data pairs have the same background and taken from the same camera and the same person which take it so it can be with the same focus/resulution.\n"
      ]
    },
    {
      "cell_type": "markdown",
      "metadata": {
        "id": "5DGUXoRU15Hn"
      },
      "source": [
        "### Part (e) -- 2%\n",
        "\n",
        "Why is it important that our data set be *balanced*? In other words suppose we created\n",
        "a data set where 99% of the images are of shoes that are *not* from the same pair, and \n",
        "1% of the images are shoes that *are* from the same pair. Why could this be a problem?"
      ]
    },
    {
      "cell_type": "markdown",
      "metadata": {
        "id": "Kx1KFDq418xO"
      },
      "source": [
        "**Write your explanation here:**\n",
        "\n",
        "It is important that our data set be balanced because the accuracy of the model is basically the total number of correct predictions divided by total number of predictions. The precision of a class define how trustable is the result when the model answer that a point belongs to that class. The recall of a class expresses how well the model is able to detect that class.\n",
        "\n",
        "So if we have imbalanced training datasets they may fail to make an accurate prediction for this class if they don’t get the necessary amount of information about it.\n",
        "\n",
        "Also, this can cause that our model will modells wrong details like pictures quality and background instead the shoes.\n"
      ]
    },
    {
      "cell_type": "markdown",
      "metadata": {
        "id": "y2D_upy-15Hn"
      },
      "source": [
        "## Question 2. Convolutional Neural Networks (25%)\n",
        "\n",
        "Before starting this question, we recommend reviewing the lecture and its associated example notebook on CNNs.\n",
        "\n",
        "In this section, we will build two CNN models in PyTorch.\n",
        "\n",
        "### Part (a) -- 9%\n",
        "\n",
        "Implement a CNN model in PyTorch called `CNN` that will take images of size\n",
        "$3 \\times 448 \\times 224$, and classify whether the images contain shoes from\n",
        "the same pair or from different pairs.\n",
        "\n",
        "The model should contain the following layers:\n",
        "\n",
        "- A convolution layer that takes in 3 channels, and outputs $n$ channels.\n",
        "- A $2 \\times 2$ downsampling (either using a strided convolution in the previous step, or max pooling)\n",
        "- A second convolution layer that takes in $n$ channels, and outputs $2\\cdot n$ channels.\n",
        "- A $2 \\times 2$ downsampling (either using a strided convolution in the previous step, or max pooling)\n",
        "- A third convolution layer that takes in $2\\cdot n$ channels, and outputs $4\\cdot n$ channels.\n",
        "- A $2 \\times 2$ downsampling (either using a strided convolution in the previous step, or max pooling)\n",
        "- A fourth convolution layer that takes in $4\\cdot n$ channels, and outputs $8\\cdot n$ channels.\n",
        "- A $2 \\times 2$ downsampling (either using a strided convolution in the previous step, or max pooling)\n",
        "- A fully-connected layer with 100 hidden units\n",
        "- A fully-connected layer with 2 hidden units\n",
        "\n",
        "Make the variable $n$ a parameter of your CNN. You can use either $3 \\times 3$ or $5 \\times 5$\n",
        "convolutions kernels. Set your padding to be `(kernel_size - 1) / 2` so that your feature maps\n",
        "have an even height/width.\n",
        "\n",
        "Note that we are omitting in our description certain steps that practitioners will typically not mention,\n",
        "like ReLU activations and reshaping operations. Use the example presented in class to figure out where they are."
      ]
    },
    {
      "cell_type": "code",
      "metadata": {
        "id": "am_oLQaG15Ho"
      },
      "source": [
        "class CNN(nn.Module):\n",
        "    #def __init__(self, input_size, n=4):\n",
        "    def __init__(self, n=4):    \n",
        "        # TODO: complete this method\n",
        "        super(CNN, self).__init__()\n",
        "        self.n = n\n",
        "        self.conv1 = nn.Conv2d(in_channels=3, out_channels=n, kernel_size=5, padding=(2,2))\n",
        "        self.conv2 = nn.Conv2d(n, 2*n, kernel_size=5, padding=(2,2))\n",
        "        self.conv3 = nn.Conv2d(2*n, 4*n, kernel_size=5, padding=(2,2))\n",
        "        self.conv4 = nn.Conv2d(4*n, 8*n, kernel_size=5, padding=(2,2))\n",
        "        # After 4 downsampling: 448x224 ==> 28x14\n",
        "        self.fc1 = nn.Linear(8*n*28*14, 100)\n",
        "        self.fc2 = nn.Linear(100, 2)\n",
        "\n",
        "    # TODO: complete this class\n",
        "    def forward(self, x, verbose=False):\n",
        "        x = self.conv1(x)\n",
        "        x = F.relu(x)\n",
        "        x = F.max_pool2d(x, kernel_size=2)\n",
        "\n",
        "        x = self.conv2(x)\n",
        "        x = F.relu(x)\n",
        "        x = F.max_pool2d(x, kernel_size=2)\n",
        "\n",
        "        x = self.conv3(x)\n",
        "        x = F.relu(x)\n",
        "        x = F.max_pool2d(x, kernel_size=2)\n",
        "\n",
        "        x = self.conv4(x)\n",
        "        x = F.relu(x)\n",
        "        x = F.max_pool2d(x, kernel_size=2)\n",
        "        x = x.view(-1, self.n*8*28*14)\n",
        "\n",
        "        x = self.fc1(x)\n",
        "        x = F.relu(x)\n",
        "        x = self.fc2(x)\n",
        "        x = F.log_softmax(x, dim=1)\n",
        "\n",
        "        return x"
      ],
      "execution_count": null,
      "outputs": []
    },
    {
      "cell_type": "markdown",
      "metadata": {
        "id": "hrUxNTyF15Ho"
      },
      "source": [
        "### Part (b) -- 8%\n",
        "\n",
        "Implement a CNN model in PyTorch called `CNNChannel` that contains the same layers as\n",
        "in the Part (a), but with one crucial difference: instead of starting with an image\n",
        "of shape $3 \\times 448 \\times 224$, we will first manipulate the image so that the\n",
        "left and right shoes images are concatenated along the **channel** dimension.\n",
        "\n",
        "<img src=\"https://drive.google.com/uc?id=1B59VE43X-6Dw3ag-9Ndn6vPEzbnFem8K\" width=\"400px\" />\n",
        "\n",
        "\n",
        "Complete the manipulation in the `forward()` method (by slicing and using\n",
        "the function `torch.cat`). The input to the first convolutional layer\n",
        "should have 6 channels instead of 3 (input shape $6 \\times 224 \\times 224$).\n",
        "\n",
        "Use the same hyperparameter choices as you did in part (a), e.g. for the kernel size,\n",
        "choice of downsampling, and other choices."
      ]
    },
    {
      "cell_type": "code",
      "metadata": {
        "id": "vLAaS0n615Ho"
      },
      "source": [
        "class CNNChannel(nn.Module):\n",
        "    def __init__(self, n=4):\n",
        "        super(CNNChannel, self).__init__()\n",
        "        # TODO: complete this method\n",
        "        self.n = n\n",
        "        self.conv1 = nn.Conv2d(in_channels=6, out_channels=n, kernel_size=5, padding=(2,2))\n",
        "        self.conv2 = nn.Conv2d(n, 2*n, kernel_size=5, padding=(2,2))\n",
        "        self.conv3 = nn.Conv2d(2*n, 4*n, kernel_size=5, padding=(2,2))\n",
        "        self.conv4 = nn.Conv2d(4*n, 8*n, kernel_size=5, padding=(2,2))\n",
        "        # After 4 downsampling: 224x224 ==> 14x14\n",
        "        self.fc1 = nn.Linear(8*n*14*14, 100)\n",
        "        self.fc2 = nn.Linear(100, 2)\n",
        "\n",
        "    # TODO: complete this class\n",
        "    def forward(self, x, verbose=False):\n",
        "        x = torch.cat((x[:, :, :224, :], x[:, :, 224:, :]), dim=1)\n",
        "\n",
        "        x = self.conv1(x)\n",
        "        x = F.relu(x)\n",
        "        x = F.max_pool2d(x, kernel_size=2)\n",
        "\n",
        "        x = self.conv2(x)\n",
        "        x = F.relu(x)\n",
        "        x = F.max_pool2d(x, kernel_size=2)\n",
        "\n",
        "        x = self.conv3(x)\n",
        "        x = F.relu(x)\n",
        "        x = F.max_pool2d(x, kernel_size=2)\n",
        "\n",
        "        x = self.conv4(x)\n",
        "        x = F.relu(x)\n",
        "        x = F.max_pool2d(x, kernel_size=2)\n",
        "        x = x.view(-1, self.n*8*14*14)\n",
        "\n",
        "        x = self.fc1(x)\n",
        "        x = F.relu(x)\n",
        "     \n",
        "        x = self.fc2(x)\n",
        "        x = F.log_softmax(x, dim=1)\n",
        "\n",
        "        return x"
      ],
      "execution_count": null,
      "outputs": []
    },
    {
      "cell_type": "markdown",
      "metadata": {
        "id": "wxqvpLYM15Hp"
      },
      "source": [
        "## Part (c) -- 4%\n",
        "\n",
        "The two models are quite similar, and should have almost the same number of parameters.\n",
        "However, one of these models will perform better, showing that architecture choices **do**\n",
        "matter in machine learning. Explain why one of these models performs better."
      ]
    },
    {
      "cell_type": "markdown",
      "metadata": {
        "id": "x79ay0kjoEST"
      },
      "source": [
        "**Write your explanation here:**"
      ]
    },
    {
      "cell_type": "markdown",
      "metadata": {
        "id": "51YSijpi15Hp"
      },
      "source": [
        "## Part (d) -- 4%\n",
        "\n",
        "The function `get_accuracy` is written for you. You may need to modify this\n",
        "function depending on how you set up your model and training.\n",
        "\n",
        "Unlike in the previous assignment, her we will separately compute the model accuracy on the\n",
        "positive and negative samples.  Explain why we may wish to track the false positives and false negatives separately."
      ]
    },
    {
      "cell_type": "markdown",
      "metadata": {
        "id": "UkX97fU9n5z-"
      },
      "source": [
        "**Write your explanation here:**"
      ]
    },
    {
      "cell_type": "code",
      "metadata": {
        "id": "Sc0mb7sL15Hq"
      },
      "source": [
        "def get_accuracy(model, data, batch_size=50):\n",
        "    \"\"\"Compute the model accuracy on the data set. This function returns two\n",
        "    separate values: the model accuracy on the positive samples,\n",
        "    and the model accuracy on the negative samples.\n",
        "\n",
        "    Example Usage:\n",
        "\n",
        "    >>> model = CNN() # create untrained model\n",
        "    >>> pos_acc, neg_acc= get_accuracy(model, valid_data)\n",
        "    >>> false_positive = 1 - pos_acc\n",
        "    >>> false_negative = 1 - neg_acc\n",
        "    \"\"\"\n",
        "\n",
        "    model.eval()\n",
        "    n = data.shape[0]\n",
        "\n",
        "    data_pos = generate_same_pair(data)      # should have shape [n * 3, 448, 224, 3]\n",
        "    data_neg = generate_different_pair(data) # should have shape [n * 3, 448, 224, 3]\n",
        "\n",
        "    pos_correct = 0\n",
        "    for i in range(0, len(data_pos), batch_size):\n",
        "        xs = torch.Tensor(data_pos[i:i+batch_size]).transpose(1, 3) # [*, 3, 448, 224]\n",
        "        xs = xs.transpose(2,3)\n",
        "        zs = model(xs)\n",
        "        pred = zs.max(1, keepdim=True)[1] # get the index of the max logit\n",
        "        pred = pred.detach().numpy()\n",
        "        pos_correct += (pred == 1).sum()\n",
        "    \n",
        "    neg_correct = 0\n",
        "    for i in range(0, len(data_neg), batch_size):\n",
        "        xs = torch.Tensor(data_neg[i:i+batch_size]).transpose(1, 3)\n",
        "        xs = xs.transpose(2,3)\n",
        "        zs = model(xs)\n",
        "        pred = zs.max(1, keepdim=True)[1] # get the index of the max logit\n",
        "        pred = pred.detach().numpy()\n",
        "        neg_correct += (pred == 0).sum()\n",
        "\n",
        "    return pos_correct / (n * 3), neg_correct / (n * 3)"
      ],
      "execution_count": null,
      "outputs": []
    },
    {
      "cell_type": "markdown",
      "metadata": {
        "id": "sqvOo_p615Hq"
      },
      "source": [
        "## Question 3. Training (40%)\n",
        "\n",
        "Now, we will write the functions required to train the model. \n",
        "\n",
        "Although our task is a binary classification problem, we will still use the architecture\n",
        "of a multi-class classification problem. That is, we'll use a one-hot vector to represent\n",
        "our target (like we did in the previous assignment). We'll also use `CrossEntropyLoss` instead of\n",
        "`BCEWithLogitsLoss` (this is a standard practice in machine learning because\n",
        "this architecture often performs better).\n",
        "\n",
        "### Part (a) -- 22%\n",
        "\n",
        "Write the function `train_model` that takes in (as parameters) the model, training data,\n",
        "validation data, and other hyperparameters like the batch size, weight decay, etc.\n",
        "This function should be somewhat similar to the training code that you wrote\n",
        "in Assignment 2, but with a major difference in the way we treat our training data.\n",
        "\n",
        "Since our positive (shoes of the same pair) and negative (shoes of different pairs) training sets are separate, it is actually easier for\n",
        "us to generate separate minibatches of positive and negative training data.\n",
        " In\n",
        "each iteration, we'll take `batch_size / 2` positive samples and `batch_size / 2`\n",
        "negative samples. We will also generate labels of 1's for the positive samples,\n",
        "and 0's for the negative samples.\n",
        "\n",
        "Here is what your training function should include:\n",
        "\n",
        "- main training loop; choice of loss function; choice of optimizer\n",
        "- obtaining the positive and negative samples\n",
        "- shuffling the positive and negative samples at the start of each epoch\n",
        "- in each iteration, take `batch_size / 2` positive samples and `batch_size / 2` negative samples\n",
        "  as our input for this batch\n",
        "- in each iteration, take `np.ones(batch_size / 2)` as the labels for the positive samples, and \n",
        "  `np.zeros(batch_size / 2)` as the labels for the negative samples\n",
        "- conversion from numpy arrays to PyTorch tensors, making sure that the input has dimensions $N \\times C \\times H \\times W$ (known as NCHW tensor), where $N$ is the number of images batch size, $C$ is the number of channels, $H$ is the height of the image, and $W$ is the width of the image. \n",
        "- computing the forward and backward passes \n",
        "- after every epoch, report the accuracies for the training set and validation set\n",
        "- track the training curve information and plot the training curve\n",
        "\n",
        "It is also recommended to checkpoint your model (save a copy) after every epoch, as we did in Assignment 2."
      ]
    },
    {
      "cell_type": "code",
      "metadata": {
        "id": "zoKU6xiB15Hq"
      },
      "source": [
        "# Write your code here\n",
        "def train_model(model, train_data, validation_data, batch_size=100, epochs = 10,\n",
        "                learning_rate=0.001, weight_decay=0, max_iters=1000, \n",
        "                checkpoint_path=None):\n",
        "    \n",
        "    model.train()\n",
        "    # Choice of loss function & choice of optimizer\n",
        "    criterion = nn.CrossEntropyLoss()\n",
        "    optimizer = optim.Adam(model.parameters(), lr=learning_rate,\n",
        "                           weight_decay=weight_decay)\n",
        "        \n",
        "    # Obtaining the positive and negative samples\n",
        "    train_data_pos = generate_same_pair(train_data) # [n * 3, 448, 224, 3]\n",
        "    train_data_neg = generate_different_pair(train_data) # [n * 3, 448, 224, 3]\n",
        "\n",
        "    # Parameters for output\n",
        "    iters, losses = [], []\n",
        "    iters_sub, train_accs, val_accs  = [], [] ,[]\n",
        "    \n",
        "    batch_size_half = int(batch_size / 2)\n",
        "    \n",
        "    # The number of iterations\n",
        "    n = 0 \n",
        "\n",
        "    # Main training loop (epochs)\n",
        "    for epoch in range(epochs): \n",
        "\n",
        "        # Choice of loss function & choice of optimizer\n",
        "        criterion = nn.CrossEntropyLoss()\n",
        "        optimizer = optim.Adam(model.parameters(), lr=learning_rate,\n",
        "                           weight_decay=weight_decay)\n",
        "  \n",
        "        # Shuffling the positive and negative samples at the start of each epoch\n",
        "        reindex = np.random.permutation(len(train_data_pos))\n",
        "        train_data_pos = train_data_pos[reindex]\n",
        "        train_data_neg = train_data_neg[reindex]\n",
        "\n",
        "        # Iterations\n",
        "        for i in range(0, len(train_data_pos), batch_size_half):\n",
        "            if (i + batch_size_half) > len(train_data_pos):\n",
        "                break\n",
        "\n",
        "            # Take batch_size/2 positive samples & negative samples as batch input\n",
        "            xt = np.concatenate((train_data_pos[i: i + batch_size_half,:,:,:], train_data_neg[i: i + batch_size_half,:,:,:]),0)\n",
        "            xt = torch.Tensor(xt).transpose(1, 3)\n",
        "            xt = xt.transpose(2,3)\n",
        "            \n",
        "            # Take np.ones(batch_size/2) as the labels for the positive samples\n",
        "            # and np.zeros(batch_size/2) as the labels for the negative samples\n",
        "            st = torch.cat((torch.ones(batch_size_half),torch.zeros(batch_size_half)),0)\n",
        "            st = torch.Tensor(st).long()\n",
        "\n",
        "            # Compute prediction logit\n",
        "            zs = model(xt)             \n",
        "\n",
        "            # Compute the total loss\n",
        "            loss = criterion(zs, st)  \n",
        "\n",
        "            # Zero the gradients before running the backward pass\n",
        "            optimizer.zero_grad()     \n",
        "\n",
        "            # Compute updates for each parameter\n",
        "            loss.backward()\n",
        "\n",
        "            # Make the updates for each parameter\n",
        "            optimizer.step()\n",
        "\n",
        "            # Save the current training information\n",
        "            iters.append(n)\n",
        "            losses.append(float(loss)/batch_size)  # compute *average* loss\n",
        "            #losses.append(float(loss)) \n",
        "\n",
        "            # increment the iteration number\n",
        "            n += 1\n",
        "\n",
        "        # Collect statistics\n",
        "        iters_sub.append(n)\n",
        "        train_cost = float(loss.detach().numpy())\n",
        "        #epochs_sub.append(epoch)\n",
        "\n",
        "        # Get training accuracy\n",
        "        train_pos_acc, train_neg_acc = get_accuracy(model, train_data, batch_size=20)\n",
        "        train_acc = (train_pos_acc + train_neg_acc) / 2\n",
        "        train_accs.append(train_acc)\n",
        "        \n",
        "        # Get validation accuracy\n",
        "        val_pos_acc, val_neg_acc = get_accuracy(model, validation_data, batch_size=20)\n",
        "        val_acc = (val_pos_acc + val_neg_acc) / 2\n",
        "        val_accs.append(val_acc)\n",
        "\n",
        "        # Print statistics every epoch \n",
        "        print(\"Epoch[%d] Iter[%d]: Val_Acc=%.0f%% (Pos=%.0f%% & Neg=%.0f%%), Train_Acc=%.0f%% (Pos=%.0f%% & Neg=%.0f%%), Loss=%f.\" % (\n",
        "              epoch + 1, n, val_acc * 100, val_pos_acc * 100, val_neg_acc * 100,\n",
        "              train_acc * 100, train_pos_acc * 100, train_neg_acc * 100, train_cost))\n",
        "        \n",
        "        # Checkpoint our model (save a copy) after every epoch\n",
        "        if (checkpoint_path is not None):\n",
        "            torch.save(model.state_dict(), checkpoint_path.format(n))\n",
        "    \n",
        "    return iters, losses, iters_sub, train_accs, val_accs\n",
        "            \n",
        "\n",
        "# Function for plotting the training curve\n",
        "def plot_learning_curve(iters, losses, iters_sub, train_accs, val_accs):\n",
        "    \"\"\"\n",
        "    Plot the learning curve.\n",
        "    \"\"\"\n",
        "    plt.title(\"Learning Curve: Loss per Iteration\")\n",
        "    plt.plot(iters, losses, label=\"Train\")\n",
        "    plt.xlabel(\"Iterations\")\n",
        "    plt.ylabel(\"Loss\")\n",
        "    plt.show()\n",
        "\n",
        "    plt.title(\"Learning Curve: Accuracy per Iteration\")\n",
        "    plt.plot(iters_sub, train_accs, label=\"Train\")\n",
        "    plt.plot(iters_sub, val_accs, label=\"Validation\")\n",
        "    plt.xlabel(\"Iterations\")\n",
        "    plt.ylabel(\"Accuracy\")\n",
        "    plt.legend(loc='best')\n",
        "    plt.show()\n",
        "\n"
      ],
      "execution_count": null,
      "outputs": []
    },
    {
      "cell_type": "markdown",
      "metadata": {
        "id": "DpVf3E-s15Hq"
      },
      "source": [
        "### Part (b) -- 6%\n",
        "\n",
        "Sanity check your code from Q3(a) and from Q2(a) and Q2(b) by showing that your models\n",
        "can memorize a very small subset of the training set (e.g. 5 images).\n",
        "You should be able to achieve 90%+ accuracy (don't forget to calculate the accuracy)\n",
        "relatively quickly (within ~30 or so iterations).\n",
        "\n",
        "\n",
        "(Start with the second network, it is easier to converge)\n",
        "\n",
        "Try to find the general parameters combination that work for each network, it can help you a little bit later."
      ]
    },
    {
      "cell_type": "code",
      "metadata": {
        "id": "Pgtzu2Jh15Hq",
        "colab": {
          "base_uri": "https://localhost:8080/",
          "height": 682
        },
        "outputId": "e3c57310-0fb0-4adc-b95d-fbd16757e404"
      },
      "source": [
        "# Write your code here. Remember to include your results so that we can\n",
        "# see that your model attains a high training accuracy. \n",
        "\n",
        "# model CNNChannel\n",
        "model_CNNChannel = CNNChannel()\n",
        "#model_CNNChannel = CNN()\n",
        "\n",
        "learning_curve_info = train_model(model_CNNChannel, train_data_norm, valid_data_norm, \n",
        "                                  batch_size=20, epochs = 6,\n",
        "                                  learning_rate=0.01, weight_decay=0, \n",
        "                                  max_iters=1000, checkpoint_path=None)\n",
        "\n",
        "plot_learning_curve(*learning_curve_info)\n",
        "\n",
        "\n",
        "#train_data_norm\n",
        "#valid_data_norm\n",
        "#test_w_norm\n",
        "#test_m_norm"
      ],
      "execution_count": null,
      "outputs": [
        {
          "output_type": "stream",
          "text": [
            "Epoch[1] Iter[30]: Val_Acc=50% (Pos=0% & Neg=100%), Train_Acc=50% (Pos=0% & Neg=100%), Loss=0.693154.\n",
            "Epoch[2] Iter[60]: Val_Acc=50% (Pos=100% & Neg=0%), Train_Acc=50% (Pos=100% & Neg=0%), Loss=0.693150.\n",
            "Epoch[3] Iter[90]: Val_Acc=50% (Pos=0% & Neg=100%), Train_Acc=50% (Pos=0% & Neg=100%), Loss=0.693147.\n",
            "Epoch[4] Iter[120]: Val_Acc=50% (Pos=100% & Neg=0%), Train_Acc=50% (Pos=100% & Neg=0%), Loss=0.693148.\n",
            "Epoch[5] Iter[150]: Val_Acc=50% (Pos=0% & Neg=100%), Train_Acc=50% (Pos=0% & Neg=100%), Loss=0.693147.\n",
            "Epoch[6] Iter[180]: Val_Acc=50% (Pos=100% & Neg=0%), Train_Acc=50% (Pos=100% & Neg=0%), Loss=0.693147.\n"
          ],
          "name": "stdout"
        },
        {
          "output_type": "display_data",
          "data": {
            "image/png": "[encoded data removed]",
            "text/plain": [
              "<Figure size 432x288 with 1 Axes>"
            ]
          },
          "metadata": {
            "tags": [],
            "needs_background": "light"
          }
        },
        {
          "output_type": "display_data",
          "data": {
            "image/png": "[encoded data removed]",
            "text/plain": [
              "<Figure size 432x288 with 1 Axes>"
            ]
          },
          "metadata": {
            "tags": [],
            "needs_background": "light"
          }
        }
      ]
    },
    {
      "cell_type": "markdown",
      "metadata": {
        "id": "JmPtB2AT15Hq"
      },
      "source": [
        "### Part (c) -- 8%\n",
        "\n",
        "Train your models from Q2(a) and Q2(b). Change the values of a few \n",
        "hyperparameters, including the learning rate, batch size, choice of $n$, and \n",
        "the kernel size. You do not need to check all values for all hyperparameters. Instead, try to make big changes to see how each change affect your scores.\n",
        "(try to start with finding a resonable learning rate for each network, that start changing the other parameters, the first network might need bigger $n$ and kernel size)\n",
        "\n",
        "In this section, explain how you tuned your hyperparameters."
      ]
    },
    {
      "cell_type": "markdown",
      "metadata": {
        "id": "Cm5SCYCYqjL8"
      },
      "source": [
        "**Write your explanation here:**"
      ]
    },
    {
      "cell_type": "code",
      "metadata": {
        "id": "6mFYNd9K15Hr"
      },
      "source": [
        "# Include the training curves for the two models.\n",
        "\n",
        "# model CNN\n",
        "model_CNN = CNN()\n",
        "learning_curve_info = train_model(model_CNN, train_data, valid_data, \n",
        "                                  batch_size=100, epochs = 10,\n",
        "                                  learning_rate=0.01, weight_decay=0, \n",
        "                                  max_iters=1000, checkpoint_path=None):\n",
        "\n",
        "plot_learning_curve(*learning_curve_info)\n",
        "\n",
        "# model CNNChannel\n",
        "model_CNNChannel = CNNChannel()\n",
        "learning_curve_info = train_model(model_CNNChannel, train_data, valid_data, \n",
        "                                  batch_size=100, epochs = 10,\n",
        "                                  learning_rate=0.01, weight_decay=0, \n",
        "                                  max_iters=1000, checkpoint_path=None):\n",
        "\n",
        "plot_learning_curve(*learning_curve_info)"
      ],
      "execution_count": null,
      "outputs": []
    },
    {
      "cell_type": "markdown",
      "metadata": {
        "id": "Yj5hZBSt15Hr"
      },
      "source": [
        "### Part (d) -- 4%\n",
        "\n",
        "Include your training curves for the **best** models from each of Q2(a) and Q2(b).\n",
        "These are the models that you will use in Question 4."
      ]
    },
    {
      "cell_type": "code",
      "metadata": {
        "id": "kLbHuQew15Hr"
      },
      "source": [
        "# Include the training curves for the two models."
      ],
      "execution_count": null,
      "outputs": []
    },
    {
      "cell_type": "markdown",
      "metadata": {
        "id": "w4RUFXM715Hr"
      },
      "source": [
        "## Question 4. Testing (15%)\n",
        "\n",
        "### Part (a) -- 7%\n",
        "\n",
        "Report the test accuracies of your **single best** model,\n",
        "separately for the two test sets.\n",
        "Do this by choosing the  model\n",
        "architecture that produces the best validation accuracy. For instance,\n",
        "if your model attained the\n",
        "best validation accuracy in epoch 12, then the weights at epoch 12 is what you should be using\n",
        "to report the test accuracy."
      ]
    },
    {
      "cell_type": "code",
      "metadata": {
        "id": "ZUrRvnmG15Hr"
      },
      "source": [
        "# Write your code here. Make sure to include the test accuracy in your report"
      ],
      "execution_count": null,
      "outputs": []
    },
    {
      "cell_type": "markdown",
      "metadata": {
        "id": "YCVO8VRA15Hr"
      },
      "source": [
        "### Part (b) -- 4%\n",
        "\n",
        "Display one set of men's shoes that your model correctly classified as being\n",
        "from the same pair.\n",
        "\n",
        "If your test accuracy was not 100% on the men's shoes test set,\n",
        "display one set of inputs that your model classified incorrectly.\n",
        "\n"
      ]
    },
    {
      "cell_type": "markdown",
      "metadata": {
        "id": "Tjefb2UIsM62"
      },
      "source": [
        "\n",
        "### Part (c) -- 4%\n",
        "\n",
        "Display one set of women's shoes that your model correctly classified as being\n",
        "from the same pair.\n",
        "\n",
        "If your test accuracy was not 100% on the women's shoes test set,\n",
        "display one set of inputs that your model classified incorrectly."
      ]
    }
  ]
}